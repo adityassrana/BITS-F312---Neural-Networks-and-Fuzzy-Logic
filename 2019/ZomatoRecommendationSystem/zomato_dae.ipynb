{
 "cells": [
  {
   "cell_type": "code",
   "execution_count": 25,
   "metadata": {},
   "outputs": [],
   "source": [
    "import numpy as np\n",
    "import torch.nn as nn\n",
    "import torch\n",
    "import torch.optim as optim\n",
    "from collections import defaultdict\n",
    "import os\n",
    "from torch.utils import data\n",
    "import matplotlib.pyplot as plt"
   ]
  },
  {
   "cell_type": "code",
   "execution_count": 26,
   "metadata": {},
   "outputs": [],
   "source": [
    "use_cuda = torch.cuda.is_available()"
   ]
  },
  {
   "cell_type": "code",
   "execution_count": 27,
   "metadata": {},
   "outputs": [],
   "source": [
    "device = torch.device(\"cuda:0\" if use_cuda else \"cpu\")"
   ]
  },
  {
   "cell_type": "code",
   "execution_count": 28,
   "metadata": {},
   "outputs": [],
   "source": [
    "device = torch.device(\"cpu\")"
   ]
  },
  {
   "cell_type": "code",
   "execution_count": 29,
   "metadata": {},
   "outputs": [],
   "source": [
    "OUTPUT_DIR_TRAIN='data/raw/zomato/train.dat'\n",
    "OUTPUT_DIR_TEST='data/raw/zomato/test.dat'\n",
    "ROOT_DIR='data/raw/zomato/final_dataset.txt'"
   ]
  },
  {
   "cell_type": "code",
   "execution_count": 30,
   "metadata": {},
   "outputs": [
    {
     "name": "stdout",
     "output_type": "stream",
     "text": [
      "5137\n"
     ]
    }
   ],
   "source": [
    "movies = []\n",
    "for line in open(ROOT_DIR):\n",
    "    movies.append(int(line.split(',')[1]))\n",
    "print(max(movies))"
   ]
  },
  {
   "cell_type": "code",
   "execution_count": 31,
   "metadata": {},
   "outputs": [],
   "source": [
    "def get_sparse_mat(filename):\n",
    "    sparse_dict = defaultdict(list)\n",
    "    for line in open(filename):\n",
    "        splitted_line = line.split(',')\n",
    "        sparse_dict[int(splitted_line[0])].append((int(splitted_line[1]),float(splitted_line[2])))\n",
    "    \n",
    "    sparse_mat = []\n",
    "    sKeys = sorted(sparse_dict)\n",
    "    for key in sKeys:\n",
    "        sparse_mat.append(sparse_dict[key])\n",
    "    return sparse_mat"
   ]
  },
  {
   "cell_type": "code",
   "execution_count": 32,
   "metadata": {},
   "outputs": [],
   "source": [
    "train_smat = get_sparse_mat(OUTPUT_DIR_TRAIN)"
   ]
  },
  {
   "cell_type": "code",
   "execution_count": 33,
   "metadata": {},
   "outputs": [],
   "source": [
    "test_smat = get_sparse_mat(OUTPUT_DIR_TEST)"
   ]
  },
  {
   "cell_type": "code",
   "execution_count": 34,
   "metadata": {},
   "outputs": [
    {
     "data": {
      "text/plain": [
       "[(5136, 5.0),\n",
       " (3908, 5.0),\n",
       " (4921, 5.0),\n",
       " (4665, 5.0),\n",
       " (2192, 3.0),\n",
       " (1177, 4.0),\n",
       " (4781, 5.0),\n",
       " (3545, 3.0),\n",
       " (1822, 5.0),\n",
       " (5058, 5.0)]"
      ]
     },
     "execution_count": 34,
     "metadata": {},
     "output_type": "execute_result"
    }
   ],
   "source": [
    "max(test_smat)"
   ]
  },
  {
   "cell_type": "code",
   "execution_count": 35,
   "metadata": {},
   "outputs": [],
   "source": [
    "class Dataset(data.Dataset):\n",
    "    def __init__(self, X, y):\n",
    "        self.X = X\n",
    "        self.y = y\n",
    "    \n",
    "    def __len__(self):\n",
    "        return len(self.y)\n",
    "    \n",
    "    def __getitem__(self, index):\n",
    "        X_sam = torch.zeros(5138)\n",
    "        y_sam = torch.zeros(5138)\n",
    "        for i in range(len(self.X[index])):\n",
    "            X_sam[self.X[index][i][0]] = self.X[index][i][1]\n",
    "\n",
    "        for i in range(len(self.y[index])):\n",
    "            y_sam[self.y[index][i][0]] = self.y[index][i][1]\n",
    "\n",
    "        return X_sam, y_sam"
   ]
  },
  {
   "cell_type": "code",
   "execution_count": 36,
   "metadata": {},
   "outputs": [],
   "source": [
    "train_dataset = Dataset(train_smat,train_smat)"
   ]
  },
  {
   "cell_type": "code",
   "execution_count": 37,
   "metadata": {},
   "outputs": [],
   "source": [
    "test_dataset = Dataset(train_smat, test_smat)"
   ]
  },
  {
   "cell_type": "code",
   "execution_count": 38,
   "metadata": {},
   "outputs": [],
   "source": [
    "class DAE(nn.Module):\n",
    "    def __init__(self, movie_size = 5138, hidden_size = 128):\n",
    "        super(DAE,self).__init__()\n",
    "        self.model = nn.Sequential(\n",
    "                        nn.Linear(movie_size, hidden_size),\n",
    "                        nn.ReLU(),\n",
    "                        nn.Linear(hidden_size, hidden_size),\n",
    "                        nn.ReLU(),\n",
    "                        nn.Linear(hidden_size, hidden_size),\n",
    "                        nn.ReLU(),\n",
    "                        nn.Linear(hidden_size, movie_size))\n",
    "    \n",
    "    def forward(self, x):\n",
    "        return self.model(x)"
   ]
  },
  {
   "cell_type": "code",
   "execution_count": 39,
   "metadata": {},
   "outputs": [],
   "source": [
    "net = DAE()"
   ]
  },
  {
   "cell_type": "code",
   "execution_count": 40,
   "metadata": {},
   "outputs": [],
   "source": [
    "def masked_loss(preds, labels):\n",
    "    mask = torch.where((labels!=0), torch.Tensor([1]),torch.Tensor([0]))\n",
    "    masked_preds = preds*mask\n",
    "    loss = torch.sum((masked_preds - labels)**2)/(torch.sum(mask))\n",
    "    return loss"
   ]
  },
  {
   "cell_type": "code",
   "execution_count": 41,
   "metadata": {},
   "outputs": [],
   "source": [
    "criterion = masked_loss"
   ]
  },
  {
   "cell_type": "code",
   "execution_count": 42,
   "metadata": {},
   "outputs": [],
   "source": [
    "opti = optim.Adam(net.parameters(), lr=1e-2)"
   ]
  },
  {
   "cell_type": "code",
   "execution_count": 43,
   "metadata": {},
   "outputs": [],
   "source": [
    "params = {'batch_size': 64,\n",
    "          'shuffle': True,\n",
    "          'num_workers': 6}\n",
    "max_epochs = 10\n",
    "training_generator = data.DataLoader(train_dataset, **params)\n",
    "validation_generator = data.DataLoader(test_dataset, **params)"
   ]
  },
  {
   "cell_type": "code",
   "execution_count": 44,
   "metadata": {},
   "outputs": [
    {
     "data": {
      "text/plain": [
       "<torch.utils.data.dataloader.DataLoader at 0x7f1aab4f25c0>"
      ]
     },
     "execution_count": 44,
     "metadata": {},
     "output_type": "execute_result"
    }
   ],
   "source": [
    "training_generator"
   ]
  },
  {
   "cell_type": "code",
   "execution_count": 45,
   "metadata": {},
   "outputs": [],
   "source": [
    "net = net.to(device)"
   ]
  },
  {
   "cell_type": "code",
   "execution_count": 46,
   "metadata": {},
   "outputs": [],
   "source": [
    "train_losses = []\n",
    "val_losses = []"
   ]
  },
  {
   "cell_type": "code",
   "execution_count": 47,
   "metadata": {},
   "outputs": [
    {
     "name": "stdout",
     "output_type": "stream",
     "text": [
      "Epoch 1: Training Loss 7.006088090794427\n",
      "Epoch 1: Validation Loss 3.6529147156647275\n",
      "Epoch 2: Training Loss 2.168512067624501\n",
      "Epoch 2: Validation Loss 1.1676863602229528\n",
      "Epoch 3: Training Loss 0.8579511387007577\n",
      "Epoch 3: Validation Loss 0.7499207854270935\n",
      "Epoch 4: Training Loss 0.6380847745708057\n",
      "Epoch 4: Validation Loss 0.7330157597150121\n",
      "Epoch 5: Training Loss 0.5978099043880191\n",
      "Epoch 5: Validation Loss 0.7044403084686824\n",
      "Epoch 6: Training Loss 0.5672301197690623\n",
      "Epoch 6: Validation Loss 0.7023302827562604\n",
      "Epoch 7: Training Loss 0.5427031442523003\n",
      "Epoch 7: Validation Loss 0.6985592203480857\n",
      "Epoch 8: Training Loss 0.5278019633676324\n",
      "Epoch 8: Validation Loss 0.7018454862492425\n",
      "Epoch 9: Training Loss 0.5136057947363172\n",
      "Epoch 9: Validation Loss 0.702987260052136\n",
      "Epoch 10: Training Loss 0.4951008957411562\n",
      "Epoch 10: Validation Loss 0.7106323391199112\n"
     ]
    }
   ],
   "source": [
    "for epoch in range(max_epochs):\n",
    "    running_loss = 0\n",
    "    cnt = 0\n",
    "    for batch_X, batch_y in training_generator:\n",
    "        batch_X, batch_y = batch_X.to(device), batch_y.to(device)\n",
    "        opti.zero_grad()\n",
    "        batch_preds = net(batch_X)\n",
    "        loss = criterion(batch_preds, batch_y)\n",
    "        loss.backward()\n",
    "        opti.step()\n",
    "        running_loss += loss.item()\n",
    "        cnt += 1\n",
    "        \n",
    "    print(\"Epoch {}: Training Loss {}\".format(epoch+1, running_loss/cnt))\n",
    "    train_losses.append(running_loss/cnt)\n",
    "    \n",
    "    running_loss = 0\n",
    "    cnt = 0\n",
    "    with torch.set_grad_enabled(False):\n",
    "        for batch_X, batch_y in validation_generator:\n",
    "            batch_X, batch_y = batch_X.to(device), batch_y.to(device)\n",
    "            batch_preds = net(batch_X)\n",
    "            loss = criterion(batch_preds, batch_y)\n",
    "            running_loss += loss.item()\n",
    "            cnt += 1\n",
    "    print(\"Epoch {}: Validation Loss {}\".format(epoch+1, running_loss/cnt))\n",
    "    \n",
    "    val_losses.append(running_loss/cnt)"
   ]
  },
  {
   "cell_type": "code",
   "execution_count": 48,
   "metadata": {},
   "outputs": [
    {
     "data": {
      "text/plain": [
       "Text(0.5,0,'Epochs')"
      ]
     },
     "execution_count": 48,
     "metadata": {},
     "output_type": "execute_result"
    },
    {
     "data": {
      "image/png": "[encoded data removed]",
      "text/plain": [
       "<Figure size 432x288 with 1 Axes>"
      ]
     },
     "metadata": {},
     "output_type": "display_data"
    }
   ],
   "source": [
    "plt.plot(train_losses)\n",
    "plt.plot(val_losses)\n",
    "plt.legend(['Training Loss', 'Validation Loss'])\n",
    "plt.xlabel('Epochs')"
   ]
  },
  {
   "cell_type": "code",
   "execution_count": 49,
   "metadata": {},
   "outputs": [
    {
     "data": {
      "text/plain": [
       "0.7106323391199112"
      ]
     },
     "execution_count": 49,
     "metadata": {},
     "output_type": "execute_result"
    }
   ],
   "source": [
    "val_losses[-1]"
   ]
  },
  {
   "cell_type": "code",
   "execution_count": 50,
   "metadata": {},
   "outputs": [],
   "source": [
    "x, y = test_dataset.__getitem__(3)"
   ]
  },
  {
   "cell_type": "code",
   "execution_count": 51,
   "metadata": {},
   "outputs": [],
   "source": [
    "pred = net(x)"
   ]
  },
  {
   "cell_type": "code",
   "execution_count": 52,
   "metadata": {},
   "outputs": [
    {
     "data": {
      "text/plain": [
       "tensor([3.8338, 3.5581, 3.7072, 4.1076, 3.6692, 3.8522, 4.1767, 3.8528, 4.0979,\n",
       "        4.3406], grad_fn=<TakeBackward>)"
      ]
     },
     "execution_count": 52,
     "metadata": {},
     "output_type": "execute_result"
    }
   ],
   "source": [
    "pred[y!=0]"
   ]
  },
  {
   "cell_type": "code",
   "execution_count": 53,
   "metadata": {},
   "outputs": [
    {
     "data": {
      "text/plain": [
       "tensor([5.0000, 4.0000, 5.0000, 4.5000, 3.5000, 3.5000, 3.5000, 4.5000, 4.5000,\n",
       "        5.0000])"
      ]
     },
     "execution_count": 53,
     "metadata": {},
     "output_type": "execute_result"
    }
   ],
   "source": [
    "y[y!=0]"
   ]
  },
  {
   "cell_type": "code",
   "execution_count": null,
   "metadata": {},
   "outputs": [],
   "source": []
  }
 ],
 "metadata": {
  "kernelspec": {
   "display_name": "Python [default]",
   "language": "python",
   "name": "python3"
  },
  "language_info": {
   "codemirror_mode": {
    "name": "ipython",
    "version": 3
   },
   "file_extension": ".py",
   "mimetype": "text/x-python",
   "name": "python",
   "nbconvert_exporter": "python",
   "pygments_lexer": "ipython3",
   "version": "3.6.5"
  }
 },
 "nbformat": 4,
 "nbformat_minor": 2
}
